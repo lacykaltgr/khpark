{
  "cells": [
    {
      "cell_type": "code",
      "execution_count": 2,
      "metadata": {
        "colab": {
          "base_uri": "https://localhost:8080/"
        },
        "id": "rWfOLjpkIYNd",
        "outputId": "12190956-67c3-45ff-dd1c-074490f972fe"
      },
      "outputs": [
        {
          "output_type": "stream",
          "name": "stdout",
          "text": [
            "Looking in indexes: https://pypi.org/simple, https://us-python.pkg.dev/colab-wheels/public/simple/\n",
            "Collecting Faker\n",
            "  Downloading Faker-17.3.0-py3-none-any.whl (1.7 MB)\n",
            "\u001b[2K     \u001b[90m━━━━━━━━━━━━━━━━━━━━━━━━━━━━━━━━━━━━━━━━\u001b[0m \u001b[32m1.7/1.7 MB\u001b[0m \u001b[31m13.4 MB/s\u001b[0m eta \u001b[36m0:00:00\u001b[0m\n",
            "\u001b[?25hRequirement already satisfied: python-dateutil>=2.4 in /usr/local/lib/python3.8/dist-packages (from Faker) (2.8.2)\n",
            "Requirement already satisfied: six>=1.5 in /usr/local/lib/python3.8/dist-packages (from python-dateutil>=2.4->Faker) (1.15.0)\n",
            "Installing collected packages: Faker\n",
            "Successfully installed Faker-17.3.0\n",
            "Looking in indexes: https://pypi.org/simple, https://us-python.pkg.dev/colab-wheels/public/simple/\n",
            "Requirement already satisfied: holidays in /usr/local/lib/python3.8/dist-packages (0.19)\n",
            "Requirement already satisfied: korean-lunar-calendar in /usr/local/lib/python3.8/dist-packages (from holidays) (0.3.1)\n",
            "Requirement already satisfied: convertdate>=2.3.0 in /usr/local/lib/python3.8/dist-packages (from holidays) (2.4.0)\n",
            "Requirement already satisfied: python-dateutil in /usr/local/lib/python3.8/dist-packages (from holidays) (2.8.2)\n",
            "Requirement already satisfied: PyMeeus in /usr/local/lib/python3.8/dist-packages (from holidays) (0.5.12)\n",
            "Requirement already satisfied: hijri-converter in /usr/local/lib/python3.8/dist-packages (from holidays) (2.2.4)\n",
            "Requirement already satisfied: six>=1.5 in /usr/local/lib/python3.8/dist-packages (from python-dateutil->holidays) (1.15.0)\n"
          ]
        }
      ],
      "source": [
        "!pip install Faker\n",
        "!pip install holidays"
      ]
    },
    {
      "cell_type": "code",
      "execution_count": 3,
      "metadata": {
        "id": "HuYjriML48DS"
      },
      "outputs": [],
      "source": [
        "import numpy as np\n",
        "from faker import Faker\n",
        "import pandas as pd\n",
        "import datetime\n",
        "import holidays\n",
        "import random\n",
        "import datetime\n",
        "import holidays"
      ]
    },
    {
      "cell_type": "markdown",
      "metadata": {
        "id": "rkvMcyaXPWh-"
      },
      "source": [
        "# Data generation\n",
        "\n",
        "Generated data based on our best approximations."
      ]
    },
    {
      "cell_type": "code",
      "execution_count": 4,
      "metadata": {
        "id": "Zz-tBaYWKSkp"
      },
      "outputs": [],
      "source": [
        "def generate_work_schedule(birthdate, year):\n",
        "    \n",
        "    dates = [datetime.date(year, 1, 1) + datetime.timedelta(days=i) for i in range(365)]\n",
        "    hungary_holidays = holidays.Hungary(years=year)\n",
        "    workdays = [d for d in dates if d.weekday() < 5 and d not in hungary_holidays]\n",
        "    num_vacation_days = int(len(workdays) * 0.12)\n",
        "    vacation_days = []\n",
        "\n",
        "    if birthdate in workdays and random.random() < 0.9:\n",
        "        workdays.remove(birthdate)\n",
        "        vacation_days.append(birthdate)\n",
        "    \n",
        "    while num_vacation_days > 0:\n",
        "        try:\n",
        "            vacation_day = int(np.random.normal(180, 30)) if num_vacation_days > 9 else faker.random_int(min=1, max=len(dates)-8)\n",
        "            while dates[vacation_day] not in workdays:\n",
        "                vacation_day = int(np.random.normal(180, 30))\n",
        "            lenght = faker.random_int(min=1, max=7)\n",
        "            num_vacation_days -= lenght\n",
        "            while lenght > 0:\n",
        "                if dates[vacation_day] in workdays:\n",
        "                    workdays.remove(dates[vacation_day])\n",
        "                    vacation_days.append(dates[vacation_day])\n",
        "                    lenght -= 1\n",
        "                vacation_day += 1\n",
        "        except IndexError:\n",
        "            continue\n",
        "\n",
        "\n",
        "    home_office_days = []\n",
        "    home_office_schedule = [False] * 5\n",
        "    home_office_habits = []\n",
        "    size = np.random.randint(1, 3)\n",
        "    for i in range(size):\n",
        "        home_office_habits.append(np.random.randint(1, 5))\n",
        "    for i in home_office_habits:\n",
        "        home_office_schedule[i] = True\n",
        "\n",
        "    for day in workdays:\n",
        "        rnd = np.random.random() < 0.9\n",
        "        if (home_office_schedule[day.weekday()] and rnd) or not rnd:\n",
        "            home_office_days.append(day)\n",
        "\n",
        "    return {'vacation_days': vacation_days, 'home_office_days': home_office_days}"
      ]
    },
    {
      "cell_type": "code",
      "execution_count": 5,
      "metadata": {
        "id": "q7FG2WXg5xZ6"
      },
      "outputs": [],
      "source": [
        "faker = Faker()\n",
        "data = []\n",
        "hu_holidays = holidays.HU()\n",
        "\n",
        "\n",
        "for i in range(2000):\n",
        "    row = {}\n",
        "    row['name'] = faker.name()\n",
        "    row['email'] = faker.email()\n",
        "    row['gender'] = np.random.random() > 0.6\n",
        "    row['hired_ago'] = np.random.normal(6*365, 500)\n",
        "    advance = np.random.normal(3*365, 180)\n",
        "    row['last_advance_ago'] = advance if advance < row['hired_ago'] else row['hired_ago']\n",
        "    row['birth_ago'] = np.random.normal(40*365, 8*365)\n",
        "    row['salary'] = np.random.normal(700000, 100000)\n",
        "    row['position'] = int(np.random.normal(3, 0.5))\n",
        "    row['has_ps'] = row['position'] > 3 if np.random.random() < 0.8 else row['position'] <= 3\n",
        "    row['arrival_mean'] = np.random.normal(8, 1)\n",
        "    row['arrival_stdv'] = np.random.normal(1, 0.2)\n",
        "    row['depart_mean'] = np.random.normal(8 + np.random.normal(8, 0.5), 1)\n",
        "    row['depart_stdv'] = np.random.normal(2, 0.2)\n",
        "    row['license_plate_cnt'] = 1 if np.random.random() > 0.8 else 2 if np.random.random() > 0.9 else 3\n",
        "    row['work_area'] = faker.random_int(min=1, max=3) \n",
        "    row['reservation_ratio'] = np.random.normal(0.8, 0.1) #el van tárolva összes reservation/elment\n",
        "    row['giveup_ratio'] = np.random.normal(1, 0.2) #hányszor adta fel a helyét/hányszor nem ment el\n",
        "    off_days = generate_work_schedule(datetime.datetime(1973, 2, 24, 12, 0, 0), 2022)\n",
        "    vacation_dates = off_days['vacation_days']\n",
        "    home_office_dates = off_days['home_office_days']\n",
        "    dates = [datetime.date(2022, 1, 1) + datetime.timedelta(days=i) for i in range(365)]\n",
        "    for i in range(len(dates)):\n",
        "      if dates[i] in vacation_dates:\n",
        "        row[str(i) ] = \"V\"\n",
        "      else:\n",
        "         if dates[i] in home_office_dates:\n",
        "          row[str(i)] = \"H\"\n",
        "         else:\n",
        "          row[str(i)] = \"W\"\n",
        "    data.append(row)\n",
        "    \n",
        "\n",
        "df = pd.DataFrame(data)\n",
        "\n",
        "# faszi beszéde valahány \n",
        "#ha meg akarod érteni hogy mi fog történni holnap akkor először meg kell értened, hogy mi fog törénni holnapután\n",
        "#i turns out we can learn so much more of people's parking habits than a.\n"
      ]
    },
    {
      "cell_type": "markdown",
      "source": [
        "# Exporting/Importing data\n"
      ],
      "metadata": {
        "id": "6tOdUFRbN7DW"
      }
    },
    {
      "cell_type": "code",
      "source": [
        "#exporting data for app integration\n",
        "df.to_csv('output.csv')"
      ],
      "metadata": {
        "id": "hQOVf2tzOJII"
      },
      "execution_count": 7,
      "outputs": []
    },
    {
      "cell_type": "code",
      "source": [
        "#importing data for training\n",
        "df = pd.read_csv('output.csv')"
      ],
      "metadata": {
        "id": "VRjXHXodOQrr"
      },
      "execution_count": null,
      "outputs": []
    },
    {
      "cell_type": "code",
      "source": [
        "import os\n",
        "os.getcwd()"
      ],
      "metadata": {
        "colab": {
          "base_uri": "https://localhost:8080/",
          "height": 35
        },
        "id": "OAdU4VJ0St3f",
        "outputId": "ab42fa40-9efa-4f6e-c25f-b2d8c671cf92"
      },
      "execution_count": 9,
      "outputs": [
        {
          "output_type": "execute_result",
          "data": {
            "text/plain": [
              "'/content'"
            ],
            "application/vnd.google.colaboratory.intrinsic+json": {
              "type": "string"
            }
          },
          "metadata": {},
          "execution_count": 9
        }
      ]
    },
    {
      "cell_type": "markdown",
      "source": [
        "# Analyzation, validation\n",
        "\n",
        "Analyze and validate generated date whith basic statistical tools."
      ],
      "metadata": {
        "id": "GQ80jFend37U"
      }
    },
    {
      "cell_type": "code",
      "execution_count": 5,
      "metadata": {
        "id": "yfv24wU2a4pX",
        "colab": {
          "base_uri": "https://localhost:8080/",
          "height": 364
        },
        "outputId": "b1b2012b-a67e-48be-955b-e1e950d8c304"
      },
      "outputs": [
        {
          "output_type": "execute_result",
          "data": {
            "text/plain": [
              "         hired_ago  last_advance_ago     birth_ago        salary     position  \\\n",
              "count  2000.000000       2000.000000   2000.000000  2.000000e+03  2000.000000   \n",
              "mean   2187.543751       1092.905909  14650.681530  6.999739e+05     2.500000   \n",
              "std     495.186459        177.621265   2857.415991  1.013188e+05     0.577206   \n",
              "min     246.271445        246.271445   4323.768841  3.624590e+05     1.000000   \n",
              "25%    1855.399331        975.230923  12739.823190  6.322217e+05     2.000000   \n",
              "50%    2185.980608       1096.449287  14674.264890  6.994773e+05     2.000000   \n",
              "75%    2519.930840       1207.404446  16535.976666  7.708996e+05     3.000000   \n",
              "max    4084.759252       1771.468804  26033.352330  1.050385e+06     4.000000   \n",
              "\n",
              "       arrival_mean  arrival_stdv  depart_mean  depart_stdv  \\\n",
              "count   2000.000000   2000.000000  2000.000000  2000.000000   \n",
              "mean       8.004209      0.998919    15.993654     1.992544   \n",
              "std        1.004834      0.198799     1.124284     0.198450   \n",
              "min        4.540304      0.274275    12.284088     1.379179   \n",
              "25%        7.341683      0.865759    15.227348     1.864078   \n",
              "50%        7.975842      1.005420    16.007157     1.988904   \n",
              "75%        8.658206      1.130359    16.757612     2.124931   \n",
              "max       11.366477      1.700334    20.648658     2.643621   \n",
              "\n",
              "       license_plate_cnt    work_area  reservation_ratio  giveup_ratio  \n",
              "count        2000.000000  2000.000000        2000.000000   2000.000000  \n",
              "mean            2.534500     1.997500           0.800672      0.996484  \n",
              "std             0.786205     0.815982           0.100529      0.201220  \n",
              "min             1.000000     1.000000           0.451715      0.252104  \n",
              "25%             2.000000     1.000000           0.728004      0.857922  \n",
              "50%             3.000000     2.000000           0.800155      0.997834  \n",
              "75%             3.000000     3.000000           0.870294      1.132647  \n",
              "max             3.000000     3.000000           1.164787      1.703285  "
            ],
            "text/html": [
              "\n",
              "  <div id=\"df-bd83acf6-2908-45de-b1ab-78235d90857e\">\n",
              "    <div class=\"colab-df-container\">\n",
              "      <div>\n",
              "<style scoped>\n",
              "    .dataframe tbody tr th:only-of-type {\n",
              "        vertical-align: middle;\n",
              "    }\n",
              "\n",
              "    .dataframe tbody tr th {\n",
              "        vertical-align: top;\n",
              "    }\n",
              "\n",
              "    .dataframe thead th {\n",
              "        text-align: right;\n",
              "    }\n",
              "</style>\n",
              "<table border=\"1\" class=\"dataframe\">\n",
              "  <thead>\n",
              "    <tr style=\"text-align: right;\">\n",
              "      <th></th>\n",
              "      <th>hired_ago</th>\n",
              "      <th>last_advance_ago</th>\n",
              "      <th>birth_ago</th>\n",
              "      <th>salary</th>\n",
              "      <th>position</th>\n",
              "      <th>arrival_mean</th>\n",
              "      <th>arrival_stdv</th>\n",
              "      <th>depart_mean</th>\n",
              "      <th>depart_stdv</th>\n",
              "      <th>license_plate_cnt</th>\n",
              "      <th>work_area</th>\n",
              "      <th>reservation_ratio</th>\n",
              "      <th>giveup_ratio</th>\n",
              "    </tr>\n",
              "  </thead>\n",
              "  <tbody>\n",
              "    <tr>\n",
              "      <th>count</th>\n",
              "      <td>2000.000000</td>\n",
              "      <td>2000.000000</td>\n",
              "      <td>2000.000000</td>\n",
              "      <td>2.000000e+03</td>\n",
              "      <td>2000.000000</td>\n",
              "      <td>2000.000000</td>\n",
              "      <td>2000.000000</td>\n",
              "      <td>2000.000000</td>\n",
              "      <td>2000.000000</td>\n",
              "      <td>2000.000000</td>\n",
              "      <td>2000.000000</td>\n",
              "      <td>2000.000000</td>\n",
              "      <td>2000.000000</td>\n",
              "    </tr>\n",
              "    <tr>\n",
              "      <th>mean</th>\n",
              "      <td>2187.543751</td>\n",
              "      <td>1092.905909</td>\n",
              "      <td>14650.681530</td>\n",
              "      <td>6.999739e+05</td>\n",
              "      <td>2.500000</td>\n",
              "      <td>8.004209</td>\n",
              "      <td>0.998919</td>\n",
              "      <td>15.993654</td>\n",
              "      <td>1.992544</td>\n",
              "      <td>2.534500</td>\n",
              "      <td>1.997500</td>\n",
              "      <td>0.800672</td>\n",
              "      <td>0.996484</td>\n",
              "    </tr>\n",
              "    <tr>\n",
              "      <th>std</th>\n",
              "      <td>495.186459</td>\n",
              "      <td>177.621265</td>\n",
              "      <td>2857.415991</td>\n",
              "      <td>1.013188e+05</td>\n",
              "      <td>0.577206</td>\n",
              "      <td>1.004834</td>\n",
              "      <td>0.198799</td>\n",
              "      <td>1.124284</td>\n",
              "      <td>0.198450</td>\n",
              "      <td>0.786205</td>\n",
              "      <td>0.815982</td>\n",
              "      <td>0.100529</td>\n",
              "      <td>0.201220</td>\n",
              "    </tr>\n",
              "    <tr>\n",
              "      <th>min</th>\n",
              "      <td>246.271445</td>\n",
              "      <td>246.271445</td>\n",
              "      <td>4323.768841</td>\n",
              "      <td>3.624590e+05</td>\n",
              "      <td>1.000000</td>\n",
              "      <td>4.540304</td>\n",
              "      <td>0.274275</td>\n",
              "      <td>12.284088</td>\n",
              "      <td>1.379179</td>\n",
              "      <td>1.000000</td>\n",
              "      <td>1.000000</td>\n",
              "      <td>0.451715</td>\n",
              "      <td>0.252104</td>\n",
              "    </tr>\n",
              "    <tr>\n",
              "      <th>25%</th>\n",
              "      <td>1855.399331</td>\n",
              "      <td>975.230923</td>\n",
              "      <td>12739.823190</td>\n",
              "      <td>6.322217e+05</td>\n",
              "      <td>2.000000</td>\n",
              "      <td>7.341683</td>\n",
              "      <td>0.865759</td>\n",
              "      <td>15.227348</td>\n",
              "      <td>1.864078</td>\n",
              "      <td>2.000000</td>\n",
              "      <td>1.000000</td>\n",
              "      <td>0.728004</td>\n",
              "      <td>0.857922</td>\n",
              "    </tr>\n",
              "    <tr>\n",
              "      <th>50%</th>\n",
              "      <td>2185.980608</td>\n",
              "      <td>1096.449287</td>\n",
              "      <td>14674.264890</td>\n",
              "      <td>6.994773e+05</td>\n",
              "      <td>2.000000</td>\n",
              "      <td>7.975842</td>\n",
              "      <td>1.005420</td>\n",
              "      <td>16.007157</td>\n",
              "      <td>1.988904</td>\n",
              "      <td>3.000000</td>\n",
              "      <td>2.000000</td>\n",
              "      <td>0.800155</td>\n",
              "      <td>0.997834</td>\n",
              "    </tr>\n",
              "    <tr>\n",
              "      <th>75%</th>\n",
              "      <td>2519.930840</td>\n",
              "      <td>1207.404446</td>\n",
              "      <td>16535.976666</td>\n",
              "      <td>7.708996e+05</td>\n",
              "      <td>3.000000</td>\n",
              "      <td>8.658206</td>\n",
              "      <td>1.130359</td>\n",
              "      <td>16.757612</td>\n",
              "      <td>2.124931</td>\n",
              "      <td>3.000000</td>\n",
              "      <td>3.000000</td>\n",
              "      <td>0.870294</td>\n",
              "      <td>1.132647</td>\n",
              "    </tr>\n",
              "    <tr>\n",
              "      <th>max</th>\n",
              "      <td>4084.759252</td>\n",
              "      <td>1771.468804</td>\n",
              "      <td>26033.352330</td>\n",
              "      <td>1.050385e+06</td>\n",
              "      <td>4.000000</td>\n",
              "      <td>11.366477</td>\n",
              "      <td>1.700334</td>\n",
              "      <td>20.648658</td>\n",
              "      <td>2.643621</td>\n",
              "      <td>3.000000</td>\n",
              "      <td>3.000000</td>\n",
              "      <td>1.164787</td>\n",
              "      <td>1.703285</td>\n",
              "    </tr>\n",
              "  </tbody>\n",
              "</table>\n",
              "</div>\n",
              "      <button class=\"colab-df-convert\" onclick=\"convertToInteractive('df-bd83acf6-2908-45de-b1ab-78235d90857e')\"\n",
              "              title=\"Convert this dataframe to an interactive table.\"\n",
              "              style=\"display:none;\">\n",
              "        \n",
              "  <svg xmlns=\"http://www.w3.org/2000/svg\" height=\"24px\"viewBox=\"0 0 24 24\"\n",
              "       width=\"24px\">\n",
              "    <path d=\"M0 0h24v24H0V0z\" fill=\"none\"/>\n",
              "    <path d=\"M18.56 5.44l.94 2.06.94-2.06 2.06-.94-2.06-.94-.94-2.06-.94 2.06-2.06.94zm-11 1L8.5 8.5l.94-2.06 2.06-.94-2.06-.94L8.5 2.5l-.94 2.06-2.06.94zm10 10l.94 2.06.94-2.06 2.06-.94-2.06-.94-.94-2.06-.94 2.06-2.06.94z\"/><path d=\"M17.41 7.96l-1.37-1.37c-.4-.4-.92-.59-1.43-.59-.52 0-1.04.2-1.43.59L10.3 9.45l-7.72 7.72c-.78.78-.78 2.05 0 2.83L4 21.41c.39.39.9.59 1.41.59.51 0 1.02-.2 1.41-.59l7.78-7.78 2.81-2.81c.8-.78.8-2.07 0-2.86zM5.41 20L4 18.59l7.72-7.72 1.47 1.35L5.41 20z\"/>\n",
              "  </svg>\n",
              "      </button>\n",
              "      \n",
              "  <style>\n",
              "    .colab-df-container {\n",
              "      display:flex;\n",
              "      flex-wrap:wrap;\n",
              "      gap: 12px;\n",
              "    }\n",
              "\n",
              "    .colab-df-convert {\n",
              "      background-color: #E8F0FE;\n",
              "      border: none;\n",
              "      border-radius: 50%;\n",
              "      cursor: pointer;\n",
              "      display: none;\n",
              "      fill: #1967D2;\n",
              "      height: 32px;\n",
              "      padding: 0 0 0 0;\n",
              "      width: 32px;\n",
              "    }\n",
              "\n",
              "    .colab-df-convert:hover {\n",
              "      background-color: #E2EBFA;\n",
              "      box-shadow: 0px 1px 2px rgba(60, 64, 67, 0.3), 0px 1px 3px 1px rgba(60, 64, 67, 0.15);\n",
              "      fill: #174EA6;\n",
              "    }\n",
              "\n",
              "    [theme=dark] .colab-df-convert {\n",
              "      background-color: #3B4455;\n",
              "      fill: #D2E3FC;\n",
              "    }\n",
              "\n",
              "    [theme=dark] .colab-df-convert:hover {\n",
              "      background-color: #434B5C;\n",
              "      box-shadow: 0px 1px 3px 1px rgba(0, 0, 0, 0.15);\n",
              "      filter: drop-shadow(0px 1px 2px rgba(0, 0, 0, 0.3));\n",
              "      fill: #FFFFFF;\n",
              "    }\n",
              "  </style>\n",
              "\n",
              "      <script>\n",
              "        const buttonEl =\n",
              "          document.querySelector('#df-bd83acf6-2908-45de-b1ab-78235d90857e button.colab-df-convert');\n",
              "        buttonEl.style.display =\n",
              "          google.colab.kernel.accessAllowed ? 'block' : 'none';\n",
              "\n",
              "        async function convertToInteractive(key) {\n",
              "          const element = document.querySelector('#df-bd83acf6-2908-45de-b1ab-78235d90857e');\n",
              "          const dataTable =\n",
              "            await google.colab.kernel.invokeFunction('convertToInteractive',\n",
              "                                                     [key], {});\n",
              "          if (!dataTable) return;\n",
              "\n",
              "          const docLinkHtml = 'Like what you see? Visit the ' +\n",
              "            '<a target=\"_blank\" href=https://colab.research.google.com/notebooks/data_table.ipynb>data table notebook</a>'\n",
              "            + ' to learn more about interactive tables.';\n",
              "          element.innerHTML = '';\n",
              "          dataTable['output_type'] = 'display_data';\n",
              "          await google.colab.output.renderOutput(dataTable, element);\n",
              "          const docLink = document.createElement('div');\n",
              "          docLink.innerHTML = docLinkHtml;\n",
              "          element.appendChild(docLink);\n",
              "        }\n",
              "      </script>\n",
              "    </div>\n",
              "  </div>\n",
              "  "
            ]
          },
          "metadata": {},
          "execution_count": 5
        }
      ],
      "source": [
        "df.describe()"
      ]
    },
    {
      "cell_type": "code",
      "execution_count": 6,
      "metadata": {
        "id": "tV_avvHKcEqb",
        "colab": {
          "base_uri": "https://localhost:8080/"
        },
        "outputId": "79388dac-f425-44a2-e9b4-039e51927dd4"
      },
      "outputs": [
        {
          "output_type": "stream",
          "name": "stdout",
          "text": [
            "<class 'pandas.core.frame.DataFrame'>\n",
            "RangeIndex: 2000 entries, 0 to 1999\n",
            "Columns: 382 entries, name to 364\n",
            "dtypes: bool(2), float64(10), int64(3), object(367)\n",
            "memory usage: 5.8+ MB\n"
          ]
        }
      ],
      "source": [
        "df.info()"
      ]
    },
    {
      "cell_type": "code",
      "execution_count": 7,
      "metadata": {
        "colab": {
          "base_uri": "https://localhost:8080/"
        },
        "id": "-c-1SX_vKAp3",
        "outputId": "da8fd689-7d96-4b56-b7be-589cb1d02ecd"
      },
      "outputs": [
        {
          "output_type": "stream",
          "name": "stdout",
          "text": [
            "                      name                      email  gender    hired_ago  \\\n",
            "0     Dr. Raymond Martinez       angela06@example.com    True  1784.881094   \n",
            "1             Tony Wallace       teresa97@example.org    True  2272.279126   \n",
            "2            Rodney Butler   achristensen@example.org   False  2173.320620   \n",
            "3          Amanda Campbell        david95@example.net    True  1717.751589   \n",
            "4           Samuel Brennan    stephanie66@example.com    True  2842.991146   \n",
            "...                    ...                        ...     ...          ...   \n",
            "1995         Jeffrey Logan  brookswilliam@example.com   False  2376.477987   \n",
            "1996            Katie Lamb        xhowell@example.net    True  2205.338572   \n",
            "1997           Mary Carter        casey01@example.org   False  2818.635406   \n",
            "1998        Katrina Mosley   allenmelissa@example.net   False  2599.062942   \n",
            "1999          Maria Medina        ygraham@example.net    True  2132.968015   \n",
            "\n",
            "      last_advance_ago     birth_ago         salary  position  has_ps  \\\n",
            "0          1252.265845  15385.559479  540784.037679         3   False   \n",
            "1          1176.421618  19515.226899  560190.372133         2    True   \n",
            "2           732.749916  13864.087039  701312.623186         3    True   \n",
            "3          1315.521801  18431.722577  433821.984565         3   False   \n",
            "4          1024.796637  10911.067565  795755.153912         2    True   \n",
            "...                ...           ...            ...       ...     ...   \n",
            "1995       1418.367194  14404.153115  763882.901866         3    True   \n",
            "1996       1155.205484  19409.766020  521896.871914         2   False   \n",
            "1997       1152.283869   9752.333538  432095.332012         3    True   \n",
            "1998        828.255535  13116.517357  770314.223744         3    True   \n",
            "1999       1069.176506  17032.721781  577491.581379         3    True   \n",
            "\n",
            "      arrival_mean  ...  355  356  357  358  359  360  361 362 363 364  \n",
            "0        10.091371  ...    W    W    W    W    W    W    H   W   W   W  \n",
            "1         8.353252  ...    W    W    W    W    W    H    W   W   W   W  \n",
            "2         6.568681  ...    H    W    W    W    W    H    W   H   W   W  \n",
            "3         8.216274  ...    W    W    W    W    W    W    H   W   H   W  \n",
            "4         8.112982  ...    V    V    W    W    W    V    V   W   W   W  \n",
            "...            ...  ...  ...  ...  ...  ...  ...  ...  ...  ..  ..  ..  \n",
            "1995      4.592922  ...    W    W    W    W    W    W    H   W   W   W  \n",
            "1996      7.652861  ...    W    H    W    W    W    W    W   H   H   W  \n",
            "1997      7.131878  ...    W    H    W    W    W    W    W   H   H   W  \n",
            "1998      8.539528  ...    W    H    W    W    W    W    H   W   H   W  \n",
            "1999      9.048079  ...    H    W    W    W    W    H    W   H   W   W  \n",
            "\n",
            "[2000 rows x 382 columns]\n"
          ]
        }
      ],
      "source": [
        "print(df)"
      ]
    },
    {
      "cell_type": "markdown",
      "source": [
        "# Data preparation\n",
        "\n",
        "Transforming data for the desired format classification model.\n"
      ],
      "metadata": {
        "id": "1eO4VIHOeep5"
      }
    },
    {
      "cell_type": "code",
      "execution_count": 8,
      "metadata": {
        "id": "zos_epRKKAp3"
      },
      "outputs": [],
      "source": [
        "def generate_feature_label(df):\n",
        "    data = []\n",
        "    for index, row in df.iterrows():\n",
        "        for i in range(365-4):\n",
        "            new_row = {}\n",
        "            new_row['gender'] = row['gender']\n",
        "            new_row['hired_ago'] = row['hired_ago']\n",
        "            new_row['last_advance_ago'] = row['last_advance_ago']\n",
        "            new_row['birth_ago'] = row['birth_ago']\n",
        "            new_row['salary'] = row['salary']\n",
        "            new_row['position'] = row['position']\n",
        "            new_row['has_ps'] = row['has_ps']\n",
        "            new_row['arrival_mean'] = row['arrival_mean']\n",
        "            new_row['arrival_stdv'] = row['arrival_stdv']\n",
        "            new_row['depart_mean'] = row['depart_mean']\n",
        "            new_row['depart_stdv'] = row['depart_stdv']\n",
        "            new_row['license_plate_cnt'] = row['license_plate_cnt']\n",
        "            new_row['work_area'] = row['work_area']\n",
        "            new_row['reservation_ratio'] = row['reservation_ratio']\n",
        "            new_row['giveup_ratio'] = row['giveup_ratio']\n",
        "            for j in range(5):\n",
        "                new_row[str(j)] = row[str(i+j)]\n",
        "            data.append(new_row)\n",
        "    return pd.DataFrame(data)\n",
        "        "
      ]
    },
    {
      "cell_type": "code",
      "execution_count": 10,
      "metadata": {
        "scrolled": true,
        "id": "iYsAM3ybKAp3"
      },
      "outputs": [],
      "source": [
        "from sklearn.preprocessing import LabelEncoder\n",
        "from sklearn.preprocessing import RobustScaler\n",
        "from sklearn.model_selection import train_test_split\n",
        "\n",
        "data = generate_feature_label(df)\n",
        "X = data.drop('4', axis=1)\n",
        "y = data['4']\n",
        "label_encoder = LabelEncoder()\n",
        "y = label_encoder.fit_transform(y)\n",
        "cat_cols = [col for col in X.columns if X[col].dtype == 'object']\n",
        "X = pd.get_dummies(X, columns=cat_cols)\n",
        "\n",
        "\n",
        "scaler = RobustScaler()\n",
        "X = pd.DataFrame(scaler.fit_transform(X))\n",
        "\n",
        "X_train, X_valid, y_train, y_valid = train_test_split(X, y, train_size=0.7, test_size=0.3)"
      ]
    },
    {
      "cell_type": "markdown",
      "source": [
        "# Training the model\n",
        "\n",
        "Setting the model hyperparameters for training, then measuring prediction accuracy on validation set."
      ],
      "metadata": {
        "id": "gLmYm_HXgE-H"
      }
    },
    {
      "cell_type": "code",
      "execution_count": 13,
      "metadata": {
        "colab": {
          "base_uri": "https://localhost:8080/"
        },
        "id": "D_25pGP6KAp3",
        "outputId": "2a8ed71f-66f5-4aa2-c400-ee801e4e738e"
      },
      "outputs": [
        {
          "output_type": "stream",
          "name": "stdout",
          "text": [
            "[0]\tvalidation_0-mlogloss:0.691249\tvalidation_1-mlogloss:0.703798\n",
            "[1]\tvalidation_0-mlogloss:0.585141\tvalidation_1-mlogloss:0.608053\n",
            "[2]\tvalidation_0-mlogloss:0.541995\tvalidation_1-mlogloss:0.574554\n",
            "[3]\tvalidation_0-mlogloss:0.521847\tvalidation_1-mlogloss:0.561437\n",
            "[4]\tvalidation_0-mlogloss:0.507954\tvalidation_1-mlogloss:0.553896\n",
            "[5]\tvalidation_0-mlogloss:0.496208\tvalidation_1-mlogloss:0.547763\n",
            "[6]\tvalidation_0-mlogloss:0.48698\tvalidation_1-mlogloss:0.543841\n",
            "[7]\tvalidation_0-mlogloss:0.48164\tvalidation_1-mlogloss:0.543581\n",
            "[8]\tvalidation_0-mlogloss:0.476738\tvalidation_1-mlogloss:0.543236\n",
            "[9]\tvalidation_0-mlogloss:0.471217\tvalidation_1-mlogloss:0.543028\n",
            "Accuracy on validation set: 0.7832963988919668\n"
          ]
        }
      ],
      "source": [
        "from xgboost import XGBClassifier\n",
        "from sklearn.metrics import roc_auc_score\n",
        "from sklearn.metrics import accuracy_score\n",
        "\n",
        "\n",
        "\n",
        "model = XGBClassifier(\n",
        "    learning_rate= 0.8, \n",
        "    n_estimators= 10,\n",
        "    max_depth= 15,\n",
        "    min_child_weight= 5,\n",
        "    gamma= 0.1,\n",
        "    colsample_bytree= 1,\n",
        "    early_stopping_rounds=15)\n",
        "model.fit(X_train, y_train, eval_set=[(X_train, y_train), (X_valid, y_valid)], verbose=1, eval_metric='mlogloss')\n",
        "\n",
        "pred = model.predictproba(X_valid)\n",
        "acc = accuracy_score(y_valid, pred)\n",
        "print('Accuracy on validation set: ' + str(acc))"
      ]
    },
    {
      "cell_type": "code",
      "execution_count": 9,
      "metadata": {
        "id": "COd_duo7KAp3"
      },
      "outputs": [],
      "source": [
        "#from sklearn.model_selection import RandomizedSearchCV\n",
        "\n",
        "#param_grid = {'n_estimators': [100, 250, 500],\n",
        "#   \"learning_rate\": [0.5, 0.7, 0.9],\n",
        "#   \"max_depth\": [ 3, 8, 12],\n",
        "#   \"min_child_weight\": [3,  5,  7],\n",
        "#   \"gamma\": [ 0.2,  0.4,  0.6 ],\n",
        "#   \"colsample_bytree\": [  0.4, 0.6, 0.7 ]\n",
        "#}\n",
        "\n",
        "#RS_XGB = RandomizedSearchCV(estimator=XGBClassifier(early_stopping_rounds=25), param_distributions=param_grid, n_iter=3, cv=6 ,n_jobs=-1, random_state=0)\n",
        "#RS_XGB.fit(X_train, y_train, eval_set=[(X_train,y_train),(X_valid,y_valid)],verbose=0)\n",
        "#RS_XGB.best_params_"
      ]
    },
    {
      "cell_type": "markdown",
      "source": [
        "# Exporting the model\n"
      ],
      "metadata": {
        "id": "hIWypXrdhIXQ"
      }
    },
    {
      "cell_type": "code",
      "source": [
        "model.save_model('model.bin')"
      ],
      "metadata": {
        "id": "aEjSqMcPhMSZ"
      },
      "execution_count": null,
      "outputs": []
    },
    {
      "cell_type": "markdown",
      "source": [],
      "metadata": {
        "id": "BmANqE6J0DPE"
      }
    }
  ],
  "metadata": {
    "colab": {
      "provenance": []
    },
    "kernelspec": {
      "display_name": "Python 3 (ipykernel)",
      "language": "python",
      "name": "python3"
    },
    "language_info": {
      "codemirror_mode": {
        "name": "ipython",
        "version": 3
      },
      "file_extension": ".py",
      "mimetype": "text/x-python",
      "name": "python",
      "nbconvert_exporter": "python",
      "pygments_lexer": "ipython3",
      "version": "3.9.13"
    }
  },
  "nbformat": 4,
  "nbformat_minor": 0
}